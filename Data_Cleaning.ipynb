{
 "cells": [
  {
   "cell_type": "code",
   "execution_count": null,
   "metadata": {},
   "outputs": [],
   "source": [
    "import pandas as pd"
   ]
  },
  {
   "cell_type": "code",
   "execution_count": null,
   "metadata": {},
   "outputs": [],
   "source": [
    "\n",
    "#https://www.kaggle.com/datasets/blastchar/telco-customer-churn\n",
    "df = pd.read_csv(\"Telco-Customer-Churn.csv\")"
   ]
  },
  {
   "cell_type": "code",
   "execution_count": null,
   "metadata": {},
   "outputs": [],
   "source": [
    "df.shape"
   ]
  },
  {
   "cell_type": "code",
   "execution_count": null,
   "metadata": {},
   "outputs": [],
   "source": [
    "df.head()"
   ]
  },
  {
   "cell_type": "code",
   "execution_count": null,
   "metadata": {},
   "outputs": [],
   "source": [
    "df['gender'] = df['gender'].map({'Female': 1, 'Male': 0})\n",
    "df['Dependents'] = df['Dependents'].map({'Yes': 1, 'No': 0})\n",
    "df['Partner'] = df['Partner'].map({'Yes': 1, 'No': 0})\n",
    "df['PhoneService'] = df['PhoneService'].map({'Yes': 1, 'No': 0})\n",
    "df['InternetService'] = df['InternetService'].map({'DSL':0, 'Fiber optic':1, 'No':2})\n",
    "df['OnlineSecurity'] = df['OnlineSecurity'].map({'No':0, 'Yes':1, 'No internet service':2})\n",
    "df['OnlineBackup'] = df['OnlineBackup'].map({'No':0, 'Yes':1, 'No internet service':2})\n",
    "df['DeviceProtection'] = df['DeviceProtection'].map({'No':0, 'Yes':1, 'No internet service':2})\n",
    "df['MultipleLines'] = df['MultipleLines'].map({'No':0, 'Yes':1, 'No phone service':2})\n",
    "df['TechSupport'] = df['TechSupport'].map({'No':0, 'Yes':1, 'No internet service':2})\n",
    "df['StreamingTV'] = df['StreamingTV'].map({'No':0, 'Yes':1, 'No internet service':2})\n",
    "df['StreamingMovies'] = df['StreamingMovies'].map({'No':0, 'Yes':1, 'No internet service':2})\n",
    "df['Contract'] = df['Contract'].map({'Month-to-month':0, 'Two year':1, 'One year':2})\n",
    "df['PaperlessBilling'] = df['PaperlessBilling'].map({'Yes': 1, 'No': 0})\n",
    "df['PaymentMethod'] = df['PaymentMethod'].map({'Electronic check':0, 'Mailed check':1, 'Bank transfer (automatic)':2, 'Credit card (automatic)':3})\n",
    "df['Churn'] = df['Churn'].map({'Yes': 1, 'No': 0})\n",
    "df['TotalCharges'] = pd.to_numeric(df['TotalCharges'], errors='coerce')\n",
    "df = df.drop('customerID', axis = 1)\n"
   ]
  },
  {
   "cell_type": "code",
   "execution_count": null,
   "metadata": {},
   "outputs": [],
   "source": [
    "df = df.dropna()"
   ]
  },
  {
   "cell_type": "code",
   "execution_count": null,
   "metadata": {},
   "outputs": [],
   "source": [
    "df.head()"
   ]
  },
  {
   "cell_type": "code",
   "execution_count": null,
   "metadata": {},
   "outputs": [],
   "source": [
    "df.shape"
   ]
  },
  {
   "cell_type": "code",
   "execution_count": null,
   "metadata": {},
   "outputs": [],
   "source": [
    "df.to_csv(\"Telco-Customer-Churn-Clean.csv\", index = False)"
   ]
  },
  {
   "cell_type": "code",
   "execution_count": null,
   "metadata": {},
   "outputs": [],
   "source": [
    "import mlflow\n",
    "import os \n",
    "\n",
    "mlflow.set_tracking_uri(\"databricks\")\n",
    "\n",
    "# Configure the connection to Databricks\n",
    "os.environ[\"DATABRICKS_HOST\"] = \"\"  # Replace with your Databricks URL\n",
    "os.environ[\"DATABRICKS_TOKEN\"] = \"\"  # Replace with your Databricks access token\n",
    "\n",
    "mlflow.set_experiment(\"\") "
   ]
  },
  {
   "cell_type": "code",
   "execution_count": null,
   "metadata": {},
   "outputs": [],
   "source": [
    "with mlflow.start_run(run_name=\"Data Cleaning\"):\n",
    "    # Log data cleaning script and input/output files\n",
    "    mlflow.log_artifact('Data_Cleaning.ipynb')  # Script used for cleaning\n",
    "    mlflow.log_artifact('Telco-Customer-Churn.csv') # Original Dataset\n",
    "    mlflow.log_artifact('Telco-Customer-Churn-Clean.csv')  # Log the cleaned data"
   ]
  }
 ],
 "metadata": {
  "kernelspec": {
   "display_name": "mlflow",
   "language": "python",
   "name": "python3"
  },
  "language_info": {
   "codemirror_mode": {
    "name": "ipython",
    "version": 3
   },
   "file_extension": ".py",
   "mimetype": "text/x-python",
   "name": "python",
   "nbconvert_exporter": "python",
   "pygments_lexer": "ipython3",
   "version": "3.9.12"
  }
 },
 "nbformat": 4,
 "nbformat_minor": 2
}
